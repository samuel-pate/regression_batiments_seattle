{
 "cells": [
  {
   "cell_type": "markdown",
   "metadata": {},
   "source": [
    "# Importation des librairies et des données"
   ]
  },
  {
   "cell_type": "code",
   "execution_count": 1,
   "metadata": {},
   "outputs": [],
   "source": [
    "# importation des librairies\n",
    "\n",
    "import pandas as pd\n",
    "import numpy as np\n",
    "import matplotlib.pyplot as plt\n",
    "import seaborn as sns\n",
    "\n",
    "import time"
   ]
  },
  {
   "cell_type": "code",
   "execution_count": 2,
   "metadata": {},
   "outputs": [],
   "source": [
    "# importation des données\n",
    "\n",
    "data_2015 = pd.read_csv(\"2015-building-energy-benchmarking.csv\", index_col=\"OSEBuildingID\")\n",
    "data_2016 = pd.read_csv(\"2016-building-energy-benchmarking.csv\", index_col=\"OSEBuildingID\")"
   ]
  },
  {
   "cell_type": "markdown",
   "metadata": {},
   "source": [
    "# Préparation des données"
   ]
  },
  {
   "cell_type": "code",
   "execution_count": 3,
   "metadata": {},
   "outputs": [],
   "source": [
    "# il est nécessaire de renommer la colonnes des émissions dans les données 2015\n",
    "\n",
    "names = {\"GHGEmissions(MetricTonsCO2e)\" : \"TotalGHGEmissions\"}\n",
    "\n",
    "data_2015.rename(columns=names, inplace=True)"
   ]
  },
  {
   "cell_type": "code",
   "execution_count": 4,
   "metadata": {},
   "outputs": [],
   "source": [
    "# sélection des observations pour lesquelles ComplianceStatus est Compliant\n",
    "\n",
    "data_2015 = data_2015.loc[data_2015[\"ComplianceStatus\"]==\"Compliant\"]\n",
    "data_2016 = data_2016.loc[data_2016[\"ComplianceStatus\"]==\"Compliant\"]"
   ]
  },
  {
   "cell_type": "code",
   "execution_count": 5,
   "metadata": {},
   "outputs": [],
   "source": [
    "# attributs indispensables\n",
    "\n",
    "essential_features = [\"PropertyGFABuilding(s)\", \"SourceEUI(kBtu/sf)\", \"SiteEnergyUse(kBtu)\", \"TotalGHGEmissions\"]\n",
    "\n",
    "data_2015.dropna(subset=essential_features, inplace=True)\n",
    "data_2016.dropna(subset=essential_features, inplace=True)"
   ]
  },
  {
   "cell_type": "code",
   "execution_count": 6,
   "metadata": {},
   "outputs": [],
   "source": [
    "# on ne retient que certaines les colonnes numériques ou catégorielles utiles\n",
    "\n",
    "num_col = [\"YearBuilt\", \"NumberofBuildings\", \"NumberofFloors\", \"PropertyGFATotal\", \"PropertyGFAParking\",\n",
    "           \"PropertyGFABuilding(s)\", \"LargestPropertyUseTypeGFA\", \"SecondLargestPropertyUseTypeGFA\",\n",
    "           \"ThirdLargestPropertyUseTypeGFA\", \"ENERGYSTARScore\", \"SourceEUI(kBtu/sf)\", \"SiteEnergyUse(kBtu)\",\n",
    "           \"SteamUse(kBtu)\", \"Electricity(kBtu)\", \"NaturalGas(kBtu)\", \"TotalGHGEmissions\"]\n",
    "\n",
    "obj_col = [\"BuildingType\", \"PrimaryPropertyType\", \"Neighborhood\", \"LargestPropertyUseType\",\n",
    "           \"SecondLargestPropertyUseType\", \"ThirdLargestPropertyUseType\"]\n",
    "\n",
    "use_col = num_col + obj_col"
   ]
  },
  {
   "cell_type": "code",
   "execution_count": 7,
   "metadata": {},
   "outputs": [],
   "source": [
    "# on compile les bâtiments présents uniquement en 2015 avec ceux de 2016\n",
    "\n",
    "id_2016 = data_2016.index\n",
    "data_only_2015 = data_2015[~data_2015.index.isin(id_2016)]\n",
    "data = pd.concat([data_only_2015[use_col], data_2016[use_col]])\n"
   ]
  },
  {
   "cell_type": "code",
   "execution_count": 8,
   "metadata": {},
   "outputs": [],
   "source": [
    "# création de SourceEnergyUse qui correspond au produit de PropertyGFABuilding(s) et SourceEUI(kBtu/sf)\n",
    "\n",
    "data = data.assign(SourceEnergyUse = data[\"PropertyGFABuilding(s)\"] * data[\"SourceEUI(kBtu/sf)\"])"
   ]
  },
  {
   "cell_type": "code",
   "execution_count": 9,
   "metadata": {},
   "outputs": [],
   "source": [
    "# création de ElectricityUse, GasUse, SteamUse, OtherUse\n",
    "# qui correspondent à l'utilisation de chacune de ces énergies\n",
    "# de 0 (pas du tout ou de façon négligeable) à 4 (principale) en considérant un rapport significatif de 1.3\n",
    "\n",
    "def energy_ranking(line) :\n",
    "    dict_energy = { \"ElectricityUse\" : line[\"Electricity(kBtu)\"] / line[\"SiteEnergyUse(kBtu)\"],\n",
    "                  \"GasUse\" : line[\"NaturalGas(kBtu)\"] / line[\"SiteEnergyUse(kBtu)\"],\n",
    "                  \"SteamUse\" : line[\"SteamUse(kBtu)\"] / line[\"SiteEnergyUse(kBtu)\"],\n",
    "                  \"OtherUse\" : 1-(line[\"Electricity(kBtu)\"]+line[\"NaturalGas(kBtu)\"]+line[\"SteamUse(kBtu)\"])/line[\"SiteEnergyUse(kBtu)\"]}\n",
    "    \n",
    "    ranked = []\n",
    "    for energy, rate in dict_energy.items() :\n",
    "        if rate < 0.05 :\n",
    "            line[energy] = 0\n",
    "        else :\n",
    "            ranked.append((energy,rate))\n",
    "    ranked = sorted(ranked, key=lambda x:x[1], reverse=True)\n",
    "    importance = 4\n",
    "    i = 0\n",
    "    \n",
    "    while(i < len(ranked)) :\n",
    "        line[ranked[i][0]] = importance\n",
    "        if (i<len(ranked)-1) and (ranked[i][1]/ranked[i+1][1]>1.3) :\n",
    "            importance -= 1\n",
    "        i += 1\n",
    "        \n",
    "    return line\n",
    "\n",
    "data = data.apply(energy_ranking, axis=\"columns\")"
   ]
  },
  {
   "cell_type": "code",
   "execution_count": 10,
   "metadata": {},
   "outputs": [],
   "source": [
    "# mise à jour des colonnes numériques utiles pour la suite \n",
    "\n",
    "num_col = [\"YearBuilt\", \"NumberofBuildings\", \"NumberofFloors\", \"PropertyGFATotal\", \"PropertyGFAParking\",\n",
    "           \"PropertyGFABuilding(s)\", \"LargestPropertyUseTypeGFA\", \"SecondLargestPropertyUseTypeGFA\",\n",
    "           \"ThirdLargestPropertyUseTypeGFA\", \"ENERGYSTARScore\", \"SourceEnergyUse\", \"OtherUse\",\n",
    "           \"SteamUse\", \"ElectricityUse\", \"GasUse\", \"TotalGHGEmissions\"]\n",
    "\n",
    "data = data[num_col+obj_col]"
   ]
  },
  {
   "cell_type": "code",
   "execution_count": 11,
   "metadata": {},
   "outputs": [],
   "source": [
    "# remplacement des données aberrantes\n",
    "\n",
    "data.loc[data[\"PropertyGFAParking\"]<0, \"PropertyGFAParking\"] = 0\n",
    "data.loc[data[\"NumberofFloors\"]==0, \"NumberofFloors\"] = 1\n",
    "data.loc[data[\"NumberofBuildings\"]==0, \"NumberofBuildings\"] = 1"
   ]
  },
  {
   "cell_type": "code",
   "execution_count": 12,
   "metadata": {},
   "outputs": [],
   "source": [
    "# imputations des valeurs manquantes (sauf LargestPropertyUseTypeGFA et ENERGYSTARScore)\n",
    "\n",
    "from sklearn import impute, linear_model\n",
    "\n",
    "# imputation en remplaçant par 1\n",
    "one_imputed = [\"NumberofFloors\"]\n",
    "imp = impute.SimpleImputer(missing_values=np.nan, strategy=\"constant\", fill_value=1)\n",
    "data[one_imputed] = imp.fit_transform(data[one_imputed])\n",
    "\n",
    "# imputation en remplaçant par 0\n",
    "zero_imputed = [\"SecondLargestPropertyUseTypeGFA\", \"ThirdLargestPropertyUseTypeGFA\"]\n",
    "imp = impute.SimpleImputer(missing_values=np.nan, strategy=\"constant\", fill_value=0)\n",
    "data[zero_imputed] = imp.fit_transform(data[zero_imputed])\n",
    "\n",
    "# imputation en remplaçant par None\n",
    "none_imputed = [\"SecondLargestPropertyUseType\", \"ThirdLargestPropertyUseType\"]\n",
    "imp = impute.SimpleImputer(missing_values=np.nan, strategy=\"constant\", fill_value=\"None\")\n",
    "data[none_imputed] = imp.fit_transform(data[none_imputed])\n",
    "\n",
    "# imputation par copie\n",
    "mask = data[\"LargestPropertyUseType\"].isnull()\n",
    "data.loc[mask, \"LargestPropertyUseType\"] = data.loc[mask, \"PrimaryPropertyType\"]"
   ]
  },
  {
   "cell_type": "code",
   "execution_count": 13,
   "metadata": {},
   "outputs": [],
   "source": [
    "# les données catégorielles sont encodées par OneHotEncoding\n",
    "\n",
    "from sklearn import preprocessing\n",
    "\n",
    "OH_encoder = preprocessing.OneHotEncoder(handle_unknown=\"ignore\", sparse=False)\n",
    "\n",
    "encoded_cols = pd.DataFrame(OH_encoder.fit_transform(data[obj_col]))\n",
    "encoded_cols.index = data.index\n",
    "encoded_cols.columns = OH_encoder.get_feature_names(obj_col)\n",
    "data = pd.concat([data[num_col], encoded_cols], axis=\"columns\")"
   ]
  },
  {
   "cell_type": "code",
   "execution_count": 14,
   "metadata": {},
   "outputs": [
    {
     "name": "stdout",
     "output_type": "stream",
     "text": [
      "(341, 228)\n",
      "(3077, 228)\n"
     ]
    }
   ],
   "source": [
    "# on sépare un échantillon brut de 10 %\n",
    "\n",
    "np.random.seed(12)\n",
    "sample = np.random.choice(data.shape[0], size=int(data.shape[0]/10), replace=False)\n",
    "not_sample = list(set(range(data.shape[0])) - set(sample))\n",
    "raw_data = data.iloc[sample, :]\n",
    "usable_data = data.iloc[not_sample, :]\n",
    "\n",
    "print(raw_data.shape)\n",
    "print(usable_data.shape)"
   ]
  },
  {
   "cell_type": "markdown",
   "metadata": {},
   "source": [
    "# Préparation des données d'entraînement"
   ]
  },
  {
   "cell_type": "code",
   "execution_count": 15,
   "metadata": {},
   "outputs": [],
   "source": [
    "# suppression des outliers (1% plus petites et 1% plus grandes valeurs) sur les attributs importants\n",
    "\n",
    "important_features = [\"PropertyGFABuilding(s)\", \"PropertyGFATotal\", \"SourceEnergyUse\", \"TotalGHGEmissions\"]\n",
    "\n",
    "bornes = np.percentile(usable_data[important_features],(1, 99), axis=0)\n",
    "\n",
    "bornes_largest = np.percentile(usable_data[\"LargestPropertyUseTypeGFA\"].dropna(),(1, 99), axis=0)\n",
    "\n",
    "for i, col in enumerate(important_features) :\n",
    "    usable_data = usable_data.loc[(usable_data[col]>=bornes[0][i]) & (usable_data[col]<=bornes[1][i])]\n",
    "    \n",
    "usable_data = usable_data.loc[((usable_data[\"LargestPropertyUseTypeGFA\"]>=bornes_largest[0]) \n",
    "                               & (usable_data[\"LargestPropertyUseTypeGFA\"]<=bornes_largest[1])) \n",
    "                              | (usable_data[\"LargestPropertyUseTypeGFA\"].isnull()) ] "
   ]
  },
  {
   "cell_type": "code",
   "execution_count": 16,
   "metadata": {},
   "outputs": [
    {
     "name": "stdout",
     "output_type": "stream",
     "text": [
      "(2258, 226)\n",
      "(646, 226)\n"
     ]
    }
   ],
   "source": [
    "# séparation en train et test sets\n",
    "\n",
    "from sklearn import model_selection\n",
    "\n",
    "X = usable_data.drop(columns = [\"SourceEnergyUse\", \"TotalGHGEmissions\"])\n",
    "y_energy= usable_data[\"SourceEnergyUse\"]\n",
    "y_emissions = usable_data[\"TotalGHGEmissions\"]\n",
    "\n",
    "\n",
    "X_train, X_test, y_train_energy, y_test_energy = model_selection.train_test_split(X, \n",
    "                                                                                  y_energy, \n",
    "                                                                                  test_size=2/9,\n",
    "                                                                                  random_state=12)\n",
    "\n",
    "y_train_emissions = y_emissions.loc[y_train_energy.index]\n",
    "y_test_emissions = y_emissions.loc[y_test_energy.index]\n",
    "\n",
    "print(X_train.shape)\n",
    "print(X_test.shape)"
   ]
  },
  {
   "cell_type": "code",
   "execution_count": 17,
   "metadata": {},
   "outputs": [
    {
     "data": {
      "text/plain": [
       "LinearRegression()"
      ]
     },
     "execution_count": 17,
     "metadata": {},
     "output_type": "execute_result"
    }
   ],
   "source": [
    "# entraînement d'un régression linéaire pour LargestProprietyUseTypeGFA\n",
    "\n",
    "mask = X_train[\"LargestPropertyUseTypeGFA\"].isna()\n",
    "reg = linear_model.LinearRegression()\n",
    "reg.fit(X_train.loc[~mask, [\"PropertyGFATotal\", \"PropertyGFABuilding(s)\"]], X_train.loc[~mask, \"LargestPropertyUseTypeGFA\"])"
   ]
  },
  {
   "cell_type": "code",
   "execution_count": 18,
   "metadata": {},
   "outputs": [
    {
     "name": "stderr",
     "output_type": "stream",
     "text": [
      "/home/samuel/.local/lib/python3.8/site-packages/pandas/core/indexing.py:1745: SettingWithCopyWarning: \n",
      "A value is trying to be set on a copy of a slice from a DataFrame.\n",
      "Try using .loc[row_indexer,col_indexer] = value instead\n",
      "\n",
      "See the caveats in the documentation: https://pandas.pydata.org/pandas-docs/stable/user_guide/indexing.html#returning-a-view-versus-a-copy\n",
      "  isetter(ilocs[0], value)\n"
     ]
    }
   ],
   "source": [
    "# imputation des valeurs manquantes de LargestProprietyUseTypeGFA dans X_train\n",
    "\n",
    "X_train.loc[mask, \"LargestPropertyUseTypeGFA\"] = reg.predict(X_train.loc[mask, [\"PropertyGFATotal\", \"PropertyGFABuilding(s)\"]])"
   ]
  },
  {
   "cell_type": "code",
   "execution_count": 19,
   "metadata": {},
   "outputs": [
    {
     "data": {
      "text/plain": [
       "ENERGYSTARScore    527\n",
       "dtype: int64"
      ]
     },
     "execution_count": 19,
     "metadata": {},
     "output_type": "execute_result"
    }
   ],
   "source": [
    "# vérification des éventuelles valeurs manquantes \n",
    "\n",
    "missing = X_train.isnull().sum()\n",
    "missing[missing!=0]"
   ]
  },
  {
   "cell_type": "code",
   "execution_count": 20,
   "metadata": {},
   "outputs": [
    {
     "name": "stderr",
     "output_type": "stream",
     "text": [
      "<ipython-input-20-1074bd7854b6>:3: SettingWithCopyWarning: \n",
      "A value is trying to be set on a copy of a slice from a DataFrame.\n",
      "Try using .loc[row_indexer,col_indexer] = value instead\n",
      "\n",
      "See the caveats in the documentation: https://pandas.pydata.org/pandas-docs/stable/user_guide/indexing.html#returning-a-view-versus-a-copy\n",
      "  X_train[X_train.columns] = impute.KNNImputer().fit_transform(X_train)\n",
      "/home/samuel/.local/lib/python3.8/site-packages/pandas/core/indexing.py:1736: SettingWithCopyWarning: \n",
      "A value is trying to be set on a copy of a slice from a DataFrame.\n",
      "Try using .loc[row_indexer,col_indexer] = value instead\n",
      "\n",
      "See the caveats in the documentation: https://pandas.pydata.org/pandas-docs/stable/user_guide/indexing.html#returning-a-view-versus-a-copy\n",
      "  isetter(loc, value[:, i].tolist())\n"
     ]
    }
   ],
   "source": [
    "# imputation des valeurs manquantes de ENERGYSTARScore par kNN dans X_train\n",
    "\n",
    "X_train[X_train.columns] = impute.KNNImputer().fit_transform(X_train)"
   ]
  },
  {
   "cell_type": "markdown",
   "metadata": {},
   "source": [
    "# Imputation des valeurs manquantes dans les autres sets"
   ]
  },
  {
   "cell_type": "code",
   "execution_count": 21,
   "metadata": {},
   "outputs": [
    {
     "name": "stderr",
     "output_type": "stream",
     "text": [
      "/home/samuel/.local/lib/python3.8/site-packages/pandas/core/indexing.py:1745: SettingWithCopyWarning: \n",
      "A value is trying to be set on a copy of a slice from a DataFrame.\n",
      "Try using .loc[row_indexer,col_indexer] = value instead\n",
      "\n",
      "See the caveats in the documentation: https://pandas.pydata.org/pandas-docs/stable/user_guide/indexing.html#returning-a-view-versus-a-copy\n",
      "  isetter(ilocs[0], value)\n"
     ]
    }
   ],
   "source": [
    "# imputation des valeurs manquantes de LargestProprietyUseTypeGFA dans X_test\n",
    "mask = X_test[\"LargestPropertyUseTypeGFA\"].isna()\n",
    "X_test.loc[mask, \"LargestPropertyUseTypeGFA\"] = reg.predict(X_test.loc[mask, [\"PropertyGFATotal\", \"PropertyGFABuilding(s)\"]])"
   ]
  },
  {
   "cell_type": "code",
   "execution_count": 22,
   "metadata": {},
   "outputs": [
    {
     "name": "stderr",
     "output_type": "stream",
     "text": [
      "/home/samuel/.local/lib/python3.8/site-packages/pandas/core/indexing.py:1745: SettingWithCopyWarning: \n",
      "A value is trying to be set on a copy of a slice from a DataFrame.\n",
      "Try using .loc[row_indexer,col_indexer] = value instead\n",
      "\n",
      "See the caveats in the documentation: https://pandas.pydata.org/pandas-docs/stable/user_guide/indexing.html#returning-a-view-versus-a-copy\n",
      "  isetter(ilocs[0], value)\n"
     ]
    }
   ],
   "source": [
    "# imputation des valeurs manquantes de LargestProprietyUseTypeGFA dans raw_data\n",
    "mask = raw_data[\"LargestPropertyUseTypeGFA\"].isna()\n",
    "raw_data.loc[mask, \"LargestPropertyUseTypeGFA\"] = reg.predict(raw_data.loc[mask, [\"PropertyGFATotal\", \"PropertyGFABuilding(s)\"]])"
   ]
  },
  {
   "cell_type": "code",
   "execution_count": 23,
   "metadata": {},
   "outputs": [
    {
     "data": {
      "text/plain": [
       "ENERGYSTARScore    140\n",
       "dtype: int64"
      ]
     },
     "execution_count": 23,
     "metadata": {},
     "output_type": "execute_result"
    }
   ],
   "source": [
    "# vérification des éventuelles valeurs manquantes \n",
    "\n",
    "missing = X_test.isnull().sum()\n",
    "missing[missing!=0]"
   ]
  },
  {
   "cell_type": "code",
   "execution_count": 24,
   "metadata": {},
   "outputs": [
    {
     "name": "stderr",
     "output_type": "stream",
     "text": [
      "<ipython-input-24-778ecf115a04>:3: SettingWithCopyWarning: \n",
      "A value is trying to be set on a copy of a slice from a DataFrame.\n",
      "Try using .loc[row_indexer,col_indexer] = value instead\n",
      "\n",
      "See the caveats in the documentation: https://pandas.pydata.org/pandas-docs/stable/user_guide/indexing.html#returning-a-view-versus-a-copy\n",
      "  X_test[X_test.columns] = impute.KNNImputer().fit_transform(X_test)\n",
      "/home/samuel/.local/lib/python3.8/site-packages/pandas/core/indexing.py:1736: SettingWithCopyWarning: \n",
      "A value is trying to be set on a copy of a slice from a DataFrame.\n",
      "Try using .loc[row_indexer,col_indexer] = value instead\n",
      "\n",
      "See the caveats in the documentation: https://pandas.pydata.org/pandas-docs/stable/user_guide/indexing.html#returning-a-view-versus-a-copy\n",
      "  isetter(loc, value[:, i].tolist())\n"
     ]
    }
   ],
   "source": [
    "# imputation des valeurs manquantes de ENERGYSTARScore par kNN dans X_test\n",
    "\n",
    "X_test[X_test.columns] = impute.KNNImputer().fit_transform(X_test)"
   ]
  },
  {
   "cell_type": "code",
   "execution_count": 25,
   "metadata": {},
   "outputs": [],
   "source": [
    "# séparation des cibles dans raw_data\n",
    "\n",
    "raw_energy = raw_data[\"SourceEnergyUse\"]\n",
    "raw_emissions = raw_data[\"TotalGHGEmissions\"]\n",
    "\n",
    "raw_data = raw_data.drop(columns=[\"SourceEnergyUse\", \"TotalGHGEmissions\"])"
   ]
  },
  {
   "cell_type": "code",
   "execution_count": 26,
   "metadata": {},
   "outputs": [],
   "source": [
    "# imputation des valeurs manquantes de ENERGYSTARScore par kNN dans raw_data\n",
    "\n",
    "raw_data[raw_data.columns] = impute.KNNImputer().fit_transform(raw_data)"
   ]
  },
  {
   "cell_type": "markdown",
   "metadata": {},
   "source": [
    "# Entrainements et performances"
   ]
  },
  {
   "cell_type": "code",
   "execution_count": 27,
   "metadata": {},
   "outputs": [
    {
     "name": "stdout",
     "output_type": "stream",
     "text": [
      "La RMSE pour la cible SourceEnergyUse est 7763987.581782843\n",
      "La RMSE pour la cible TotalGHGEmissions est 77.29862824708313\n",
      "Le temps d'éxécution est 1.2429563999176025 s\n"
     ]
    }
   ],
   "source": [
    "# random forest avec paramètres de base\n",
    "\n",
    "from sklearn import ensemble, metrics\n",
    "\n",
    "start = time.time()\n",
    "\n",
    "rf1 = ensemble.RandomForestRegressor(n_jobs=6)\n",
    "rf2 = ensemble.RandomForestRegressor(n_jobs=6)\n",
    "\n",
    "rf1.fit(X_train, y_train_energy)\n",
    "y_pred = rf1.predict(X_test)\n",
    "RMSE = np.sqrt(metrics.mean_squared_error(y_test_energy, y_pred))\n",
    "print(f\"La RMSE pour la cible SourceEnergyUse est {RMSE}\")\n",
    "\n",
    "rf2.fit(X_train, y_train_emissions)\n",
    "y_pred = rf2.predict(X_test)\n",
    "RMSE = np.sqrt(metrics.mean_squared_error(y_test_emissions, y_pred))\n",
    "print(f\"La RMSE pour la cible TotalGHGEmissions est {RMSE}\")\n",
    "\n",
    "interval = time.time()-start\n",
    "\n",
    "print(f\"Le temps d'éxécution est {interval} s\")"
   ]
  },
  {
   "cell_type": "code",
   "execution_count": 28,
   "metadata": {},
   "outputs": [
    {
     "name": "stdout",
     "output_type": "stream",
     "text": [
      "Pour la cible SourceEnergyUse\n",
      "L'importance du paramètre ENERGYSTARScore est 0.08570429170036159\n",
      "Le rang de l'attribut ENERGYSTARScore est 1\n",
      "\n",
      "Pour la cible TotalGHGEmissions\n",
      "L'importance du paramètre ENERGYSTARScore est 0.0840379547681939\n",
      "Le rang de l'attribut ENERGYSTARScore est 4\n"
     ]
    }
   ],
   "source": [
    "# importances de l'attribut ENERGYSTARScore\n",
    "\n",
    "print(f\"Pour la cible SourceEnergyUse\")\n",
    "ind = list(X_test.columns).index(\"ENERGYSTARScore\")\n",
    "imp = rf1.feature_importances_[ind]\n",
    "print(f\"L'importance du paramètre ENERGYSTARScore est {imp}\")\n",
    "list_importances = sorted(list(zip(X_test.columns, rf1.feature_importances_)), key=lambda x:x[1], reverse=True)\n",
    "list_sorted_features = [x[0] for x in list_importances]\n",
    "rg = list_sorted_features.index(\"ENERGYSTARScore\")\n",
    "print(f\"Le rang de l'attribut ENERGYSTARScore est {rg}\\n\")\n",
    "\n",
    "print(f\"Pour la cible TotalGHGEmissions\")\n",
    "imp = rf2.feature_importances_[ind]\n",
    "print(f\"L'importance du paramètre ENERGYSTARScore est {imp}\")\n",
    "list_importances = sorted(list(zip(X_test.columns, rf2.feature_importances_)), key=lambda x:x[1], reverse=True)\n",
    "list_sorted_features = [x[0] for x in list_importances]\n",
    "rg = list_sorted_features.index(\"ENERGYSTARScore\")\n",
    "print(f\"Le rang de l'attribut ENERGYSTARScore est {rg}\")"
   ]
  },
  {
   "cell_type": "code",
   "execution_count": 29,
   "metadata": {},
   "outputs": [
    {
     "name": "stdout",
     "output_type": "stream",
     "text": [
      "La RMSE pour la cible SourceEnergyUse est 10950685.978924181\n",
      "La RMSE pour la cible TotalGHGEmissionsest 114.32097729436276\n"
     ]
    }
   ],
   "source": [
    "# performances sur les données brutes\n",
    "\n",
    "y_pred = rf1.predict(raw_data)\n",
    "RMSE = np.sqrt(metrics.mean_squared_error(raw_energy, y_pred))\n",
    "print(f\"La RMSE pour la cible SourceEnergyUse est {RMSE}\")\n",
    "\n",
    "y_pred = rf2.predict(raw_data)\n",
    "RMSE = np.sqrt(metrics.mean_squared_error(raw_emissions, y_pred))\n",
    "print(f\"La RMSE pour la cible TotalGHGEmissionsest {RMSE}\")"
   ]
  },
  {
   "cell_type": "code",
   "execution_count": 30,
   "metadata": {},
   "outputs": [
    {
     "name": "stdout",
     "output_type": "stream",
     "text": [
      "La RMSE pour la cible SourceEnergyUse est 7254981.584136577 avec colsample_bytree=0.7 et colsample_bylevel=0.5\n",
      "La RMSE pour la cible TotalGHGEmissions est 73.98583776341583 avec colsample_bytree=0.8 et colsample_bylevel=0.7\n",
      "Le temps d'éxécution est 6.327612400054932 s\n"
     ]
    }
   ],
   "source": [
    "# régression par XGBoost avec sélection des paramètres\n",
    "\n",
    "from xgboost import XGBRegressor\n",
    "\n",
    "start = time.time()\n",
    "\n",
    "l_rate = 0.05\n",
    "params_by_tree = [0.6, 0.7, 0.8]\n",
    "res_by_tree = []\n",
    "params_by_level = [0.5, 0.7, 0.9]\n",
    "res_by_level = []\n",
    "rmse1 = []\n",
    "rmse2 = []\n",
    "\n",
    "for by_tree in params_by_tree:\n",
    "    for by_level in params_by_level :\n",
    "        \n",
    "        res_by_tree.append(by_tree)\n",
    "        res_by_level.append(by_level)\n",
    "\n",
    "        xgb1 = XGBRegressor(n_estimators=1000, learning_rate=l_rate, \n",
    "                            colsample_bytree=by_tree, colsample_bylevel=by_level, \n",
    "                            n_jobs=6)\n",
    "        xgb1.fit(X_train, y_train_energy, \n",
    "                     early_stopping_rounds=5, \n",
    "                     eval_set=[(X_test, y_test_energy)],\n",
    "                     verbose=False)\n",
    "        y_pred = xgb1.predict(X_test)\n",
    "        RMSE = np.sqrt(metrics.mean_squared_error(y_test_energy, y_pred))\n",
    "        rmse1.append(RMSE)\n",
    "        \n",
    "        xgb2 = XGBRegressor(n_estimators=1000, learning_rate=l_rate, \n",
    "                            colsample_bytree=by_tree, colsample_bylevel=by_level, \n",
    "                            n_jobs=6)\n",
    "        xgb2.fit(X_train, y_train_emissions, \n",
    "                     early_stopping_rounds=5, \n",
    "                     eval_set=[(X_test, y_test_emissions)],\n",
    "                     verbose=False)\n",
    "        y_pred = xgb2.predict(X_test)\n",
    "        RMSE = np.sqrt(metrics.mean_squared_error(y_test_emissions, y_pred))\n",
    "        rmse2.append(RMSE)\n",
    "\n",
    "\n",
    "RMSE = min(rmse1)  \n",
    "ind = rmse1.index(RMSE)\n",
    "print(f\"La RMSE pour la cible SourceEnergyUse est {RMSE} avec colsample_bytree={res_by_tree[ind]} et colsample_bylevel={res_by_level[ind]}\")\n",
    "RMSE = min(rmse2)\n",
    "ind = rmse2.index(RMSE)\n",
    "print(f\"La RMSE pour la cible TotalGHGEmissions est {RMSE} avec colsample_bytree={res_by_tree[ind]} et colsample_bylevel={res_by_level[ind]}\")\n",
    "\n",
    "interval = time.time()-start\n",
    "\n",
    "print(f\"Le temps d'éxécution est {interval} s\")\n"
   ]
  },
  {
   "cell_type": "code",
   "execution_count": 31,
   "metadata": {},
   "outputs": [
    {
     "name": "stdout",
     "output_type": "stream",
     "text": [
      "Pour la cible SourceEnergyUse,\n",
      "l'importance du paramètre ENERGYSTARScore est 0.005357828922569752\n",
      "Le rang de l'attribut ENERGYSTARScore est 19\n",
      "\n",
      "Pour la cible TotalGHGEmissions,\n",
      "l'importance du paramètre ENERGYSTARScore est 0.004558730870485306\n",
      "Le rang de l'attribut ENERGYSTARScore est 21\n"
     ]
    }
   ],
   "source": [
    "# importance de l'ENERGYSTARScore\n",
    "\n",
    "print(f\"Pour la cible SourceEnergyUse,\")\n",
    "imp = xgb1.feature_importances_[ind]\n",
    "print(f\"l'importance du paramètre ENERGYSTARScore est {imp}\")\n",
    "list_importances = sorted(list(zip(X_test.columns, xgb1.feature_importances_)), key=lambda x:x[1], reverse=True)\n",
    "list_sorted_features = [x[0] for x in list_importances]\n",
    "rg = list_sorted_features.index(\"ENERGYSTARScore\")\n",
    "print(f\"Le rang de l'attribut ENERGYSTARScore est {rg}\\n\")\n",
    "\n",
    "print(f\"Pour la cible TotalGHGEmissions,\")\n",
    "imp = xgb2.feature_importances_[ind]\n",
    "print(f\"l'importance du paramètre ENERGYSTARScore est {imp}\")\n",
    "list_importances = sorted(list(zip(X_test.columns, xgb2.feature_importances_)), key=lambda x:x[1], reverse=True)\n",
    "list_sorted_features = [x[0] for x in list_importances]\n",
    "rg = list_sorted_features.index(\"ENERGYSTARScore\")\n",
    "print(f\"Le rang de l'attribut ENERGYSTARScore est {rg}\")"
   ]
  },
  {
   "cell_type": "code",
   "execution_count": 32,
   "metadata": {},
   "outputs": [
    {
     "name": "stdout",
     "output_type": "stream",
     "text": [
      "La RMSE pour la cible SourceEnergyUse est 11702165.643270709\n",
      "La RMSE pour la cible TotalGHGEmissionsest 106.8377205213389\n"
     ]
    }
   ],
   "source": [
    "# performances sur les données brutes\n",
    "\n",
    "y_pred = xgb1.predict(raw_data)\n",
    "RMSE = np.sqrt(metrics.mean_squared_error(raw_energy, y_pred))\n",
    "print(f\"La RMSE pour la cible SourceEnergyUse est {RMSE}\")\n",
    "\n",
    "y_pred = xgb2.predict(raw_data)\n",
    "RMSE = np.sqrt(metrics.mean_squared_error(raw_emissions, y_pred))\n",
    "print(f\"La RMSE pour la cible TotalGHGEmissionsest {RMSE}\")"
   ]
  },
  {
   "cell_type": "markdown",
   "metadata": {},
   "source": [
    "# Performances sans l'attribut ENERGYSTARScore"
   ]
  },
  {
   "cell_type": "code",
   "execution_count": 33,
   "metadata": {},
   "outputs": [
    {
     "name": "stdout",
     "output_type": "stream",
     "text": [
      "La RMSE pour la cible SourceEnergyUse est 8172215.467283015\n",
      "La RMSE pour la cible TotalGHGEmissions est 75.64476282069457\n",
      "Le temps d'éxécution est 1.2102982997894287 s\n"
     ]
    }
   ],
   "source": [
    "# random forest avec optimisation des paramètres par grid search avec validation croisée\n",
    "\n",
    "start = time.time()\n",
    "\n",
    "rf1 = ensemble.RandomForestRegressor(n_jobs=6)\n",
    "rf2 = ensemble.RandomForestRegressor(n_jobs=6)\n",
    "\n",
    "rf1.fit(X_train.drop(columns=[\"ENERGYSTARScore\"]), y_train_energy)\n",
    "y_pred = rf1.predict(X_test.drop(columns=[\"ENERGYSTARScore\"]))\n",
    "RMSE = np.sqrt(metrics.mean_squared_error(y_test_energy, y_pred))\n",
    "print(f\"La RMSE pour la cible SourceEnergyUse est {RMSE}\")\n",
    "\n",
    "rf2.fit(X_train.drop(columns=[\"ENERGYSTARScore\"]), y_train_emissions)\n",
    "y_pred = rf2.predict(X_test.drop(columns=[\"ENERGYSTARScore\"]))\n",
    "RMSE = np.sqrt(metrics.mean_squared_error(y_test_emissions, y_pred))\n",
    "print(f\"La RMSE pour la cible TotalGHGEmissions est {RMSE}\")\n",
    "\n",
    "interval = time.time()-start\n",
    "\n",
    "print(f\"Le temps d'éxécution est {interval} s\")"
   ]
  },
  {
   "cell_type": "code",
   "execution_count": 34,
   "metadata": {},
   "outputs": [
    {
     "name": "stdout",
     "output_type": "stream",
     "text": [
      "La RMSE pour la cible SourceEnergyUse est 10461849.758449571\n",
      "La RMSE pour la cible TotalGHGEmissions est 115.27571279485483\n"
     ]
    }
   ],
   "source": [
    "# performances sur les données brutes\n",
    "\n",
    "y_pred = rf1.predict(raw_data.drop(columns=[\"ENERGYSTARScore\"]))\n",
    "RMSE = np.sqrt(metrics.mean_squared_error(raw_energy, y_pred))\n",
    "print(f\"La RMSE pour la cible SourceEnergyUse est {RMSE}\")\n",
    "\n",
    "y_pred = rf2.predict(raw_data.drop(columns=[\"ENERGYSTARScore\"]))\n",
    "RMSE = np.sqrt(metrics.mean_squared_error(raw_emissions, y_pred))\n",
    "print(f\"La RMSE pour la cible TotalGHGEmissions est {RMSE}\")"
   ]
  },
  {
   "cell_type": "code",
   "execution_count": 35,
   "metadata": {},
   "outputs": [
    {
     "name": "stdout",
     "output_type": "stream",
     "text": [
      "La RMSE pour la cible SourceEnergyUse est 8144637.087395868 avec colsample_bytree=0.6 et colsample_bylevel=0.7\n",
      "La RMSE pour la cible TotalGHGEmissions est 73.1827985738184 avec colsample_bytree=0.7 et colsample_bylevel=0.9\n",
      "Le temps d'éxécution est 5.312213659286499 s\n"
     ]
    }
   ],
   "source": [
    "# régression par XGBoost avec sélection des paramètres\n",
    "\n",
    "\n",
    "start = time.time()\n",
    "\n",
    "l_rate = 0.05\n",
    "params_by_tree = [0.6, 0.7, 0.8]\n",
    "res_by_tree = []\n",
    "params_by_level = [0.5, 0.7, 0.9]\n",
    "res_by_level = []\n",
    "rmse1 = []\n",
    "rmse2 = []\n",
    "\n",
    "for by_tree in params_by_tree:\n",
    "    for by_level in params_by_level :\n",
    "        \n",
    "        res_by_tree.append(by_tree)\n",
    "        res_by_level.append(by_level)\n",
    "\n",
    "        xgb1 = XGBRegressor(n_estimators=1000, learning_rate=l_rate, \n",
    "                            colsample_bytree=by_tree, colsample_bylevel=by_level, \n",
    "                            n_jobs=6)\n",
    "        xgb1.fit(X_train.drop(columns=[\"ENERGYSTARScore\"]), y_train_energy, \n",
    "                     early_stopping_rounds=5, \n",
    "                     eval_set=[(X_test.drop(columns=[\"ENERGYSTARScore\"]), y_test_energy)],\n",
    "                     verbose=False)\n",
    "        y_pred = xgb1.predict(X_test.drop(columns=[\"ENERGYSTARScore\"]))\n",
    "        RMSE = np.sqrt(metrics.mean_squared_error(y_test_energy, y_pred))\n",
    "        rmse1.append(RMSE)\n",
    "        \n",
    "        xgb2 = XGBRegressor(n_estimators=1000, learning_rate=l_rate, \n",
    "                            colsample_bytree=by_tree, colsample_bylevel=by_level, \n",
    "                            n_jobs=6)\n",
    "        xgb2.fit(X_train.drop(columns=[\"ENERGYSTARScore\"]), y_train_emissions, \n",
    "                     early_stopping_rounds=5, \n",
    "                     eval_set=[(X_test.drop(columns=[\"ENERGYSTARScore\"]), y_test_emissions)],\n",
    "                     verbose=False)\n",
    "        y_pred = xgb2.predict(X_test.drop(columns=[\"ENERGYSTARScore\"]))\n",
    "        RMSE = np.sqrt(metrics.mean_squared_error(y_test_emissions, y_pred))\n",
    "        rmse2.append(RMSE)\n",
    "\n",
    "\n",
    "RMSE = min(rmse1)  \n",
    "ind = rmse1.index(RMSE)\n",
    "print(f\"La RMSE pour la cible SourceEnergyUse est {RMSE} avec colsample_bytree={res_by_tree[ind]} et colsample_bylevel={res_by_level[ind]}\")\n",
    "RMSE = min(rmse2)\n",
    "ind = rmse2.index(RMSE)\n",
    "print(f\"La RMSE pour la cible TotalGHGEmissions est {RMSE} avec colsample_bytree={res_by_tree[ind]} et colsample_bylevel={res_by_level[ind]}\")\n",
    "\n",
    "interval = time.time()-start\n",
    "\n",
    "print(f\"Le temps d'éxécution est {interval} s\")\n"
   ]
  },
  {
   "cell_type": "code",
   "execution_count": 36,
   "metadata": {},
   "outputs": [
    {
     "name": "stdout",
     "output_type": "stream",
     "text": [
      "La RMSE pour la cible SourceEnergyUse est 11508164.666742273\n",
      "La RMSE pour la cible TotalGHGEmissionsest 112.9132035205935\n"
     ]
    }
   ],
   "source": [
    "# performances sur les données brutes\n",
    "\n",
    "y_pred = xgb1.predict(raw_data.drop(columns=[\"ENERGYSTARScore\"]))\n",
    "RMSE = np.sqrt(metrics.mean_squared_error(raw_energy, y_pred))\n",
    "print(f\"La RMSE pour la cible SourceEnergyUse est {RMSE}\")\n",
    "\n",
    "y_pred = xgb2.predict(raw_data.drop(columns=[\"ENERGYSTARScore\"]))\n",
    "RMSE = np.sqrt(metrics.mean_squared_error(raw_emissions, y_pred))\n",
    "print(f\"La RMSE pour la cible TotalGHGEmissionsest {RMSE}\")"
   ]
  },
  {
   "cell_type": "markdown",
   "metadata": {},
   "source": [
    "# Visualisation de l'erreur"
   ]
  },
  {
   "cell_type": "code",
   "execution_count": 37,
   "metadata": {},
   "outputs": [
    {
     "data": {
      "image/png": "[encoded data removed]",
      "text/plain": [
       "<Figure size 1080x576 with 2 Axes>"
      ]
     },
     "metadata": {
      "needs_background": "light"
     },
     "output_type": "display_data"
    }
   ],
   "source": [
    "# graphiques d'affichage des valeurs exactes et prédites\n",
    "\n",
    "fig = plt.figure(figsize=(15,8))\n",
    "ax = plt.subplot(211)\n",
    "\n",
    "nb_obs = raw_data.shape[0]\n",
    "\n",
    "obs = zip(raw_energy,\n",
    "          rf1.predict(raw_data.drop(columns=[\"ENERGYSTARScore\"])),\n",
    "          xgb1.predict(raw_data.drop(columns=[\"ENERGYSTARScore\"])))\n",
    "obs = sorted(obs, key=lambda x : x[0])\n",
    "\n",
    "values = [obs[i] for i in range(0,nb_obs+1,3)]\n",
    "\n",
    "ax.set_title(\"Cible SourceEnergyUse triée dans l'ordre croissant\\n(une valeur sur 3)\",\n",
    "            fontsize=20)\n",
    "ax.scatter(range(1,len(values)+1), [x[0] for x in values], c='b', s=5, label=\"Vraies valeurs\")\n",
    "ax.scatter(range(1,len(values)+1), [x[2] for x in values], c='g',s=5, label=\"Valeurs estimées par Random Forest\")\n",
    "ax.scatter(range(1,len(values)+1), [x[1] for x in values], c='r', s=5, label=\"Valeurs estimées par XGBoost\")\n",
    "from matplotlib import ticker\n",
    "formatter = ticker.ScalarFormatter(useMathText=True)\n",
    "formatter.set_scientific(True) \n",
    "ax.yaxis.set_major_formatter(formatter)\n",
    "ax.set_xticks([])\n",
    "ax.set_ylabel(\"SourceEnergyUse\", fontsize=15)\n",
    "ax.legend(fontsize=15)\n",
    "\n",
    "ax = plt.subplot(212)\n",
    "\n",
    "obs = zip(raw_emissions,\n",
    "          rf2.predict(raw_data.drop(columns=[\"ENERGYSTARScore\"])),\n",
    "          xgb2.predict(raw_data.drop(columns=[\"ENERGYSTARScore\"])))\n",
    "obs = sorted(obs, key=lambda x : x[0])\n",
    "\n",
    "values = [obs[i] for i in range(0,nb_obs+1,3)]\n",
    "\n",
    "ax.set_title(\"\\nCible TotalGHGEmissions triée dans l'ordre croissant\\n(une valeur sur 3)\",\n",
    "            fontsize=20)\n",
    "ax.scatter(range(1,len(values)+1), [x[0] for x in values], c='b', s=5, label=\"Vraies valeurs\")\n",
    "ax.scatter(range(1,len(values)+1), [x[2] for x in values], c='g',s=5, label=\"Valeurs estimées par Random Forest\")\n",
    "ax.scatter(range(1,len(values)+1), [x[1] for x in values], c='r', s=5, label=\"Valeurs estimées par XGBoost\")\n",
    "ax.set_xticks([])\n",
    "ax.set_ylabel(\"TotalGHGEmissions\", fontsize=15)\n",
    "ax.legend(fontsize=15)\n",
    "fig.tight_layout()\n",
    "plt.savefig(\"Erreurs.png\")"
   ]
  },
  {
   "cell_type": "markdown",
   "metadata": {},
   "source": [
    "# Conclusion\n",
    "Les performances sont équivalentes, les paramètres de XGBoost peuvent encore être optimisés."
   ]
  },
  {
   "cell_type": "code",
   "execution_count": null,
   "metadata": {},
   "outputs": [],
   "source": []
  }
 ],
 "metadata": {
  "kernelspec": {
   "display_name": "Python 3",
   "language": "python",
   "name": "python3"
  },
  "language_info": {
   "codemirror_mode": {
    "name": "ipython",
    "version": 3
   },
   "file_extension": ".py",
   "mimetype": "text/x-python",
   "name": "python",
   "nbconvert_exporter": "python",
   "pygments_lexer": "ipython3",
   "version": "3.8.5"
  }
 },
 "nbformat": 4,
 "nbformat_minor": 4
}
